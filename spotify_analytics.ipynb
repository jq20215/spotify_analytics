{
  "nbformat": 4,
  "nbformat_minor": 0,
  "metadata": {
    "colab": {
      "name": "spotify_analytics.ipynb",
      "provenance": []
    },
    "kernelspec": {
      "name": "python3",
      "display_name": "Python 3"
    },
    "language_info": {
      "name": "python"
    }
  },
  "cells": [
    {
      "cell_type": "code",
      "metadata": {
        "id": "n3Qjl7zpflUN"
      },
      "source": [
        "# pip install spotipy"
      ],
      "execution_count": null,
      "outputs": []
    },
    {
      "cell_type": "code",
      "metadata": {
        "id": "eOy3RHxMQO0Y"
      },
      "source": [
        "# import packages\n",
        "import spotipy\n",
        "from spotipy.oauth2 import SpotifyClientCredentials\n",
        "import pandas as pd\n",
        "import numpy as np\n",
        "import sys\n",
        "import time "
      ],
      "execution_count": null,
      "outputs": []
    },
    {
      "cell_type": "code",
      "metadata": {
        "id": "C0ZuDLD9ei3y"
      },
      "source": [
        "# use the spotipy package to establish a connection with the api dashboard \n",
        "client_id = '...'\n",
        "client_secret = '...' # this might change with every session\n",
        "\n",
        "client_credentials_manager = SpotifyClientCredentials(client_id, client_secret)\n",
        "sp = spotipy.Spotify(client_credentials_manager = client_credentials_manager)"
      ],
      "execution_count": null,
      "outputs": []
    },
    {
      "cell_type": "code",
      "metadata": {
        "id": "_Fr2Hn_JwEiw"
      },
      "source": [
        "# playlist retreival with help from: https://github.com/nathanwilthomas/Spotify_KNN/blob/master/Spotify%20KNN.ipynb\n",
        "# Retrieves all songs from an identified playlist, and takes the ID, song, album, artists and puts this all into a DataFrame\n",
        "\n",
        "\n",
        "def analyze_playlist(url):\n",
        "   # song name\n",
        "    offset = 0\n",
        "    name = []\n",
        "    while True:\n",
        "        response = sp.playlist_tracks(url,\n",
        "                                      offset = offset,\n",
        "                                      fields = ['items.track.name, total'])\n",
        "        name.append(response[\"items\"])\n",
        "        offset = offset + len(response['items']) \n",
        "        if len(response['items']) == 0:\n",
        "            break\n",
        "    name_list = [b[\"track\"][\"name\"] for a in name for b in a]    \n",
        "\n",
        "\n",
        "    # album name\n",
        "    offset = 0\n",
        "    album = []\n",
        "    while True:\n",
        "        response = sp.playlist_tracks(url,\n",
        "                                      offset = offset,\n",
        "                                      fields = ['items.track.album.name,total'])\n",
        "        album.append(response[\"items\"])\n",
        "        offset = offset + len(response['items'])\n",
        "        if len(response['items']) == 0:\n",
        "            break\n",
        "    album_list = [b[\"track\"][\"album\"][\"name\"] for a in album for b in a] \n",
        "\n",
        "\n",
        "   # artist name\n",
        "    offset = 0\n",
        "    artist = []\n",
        "    while True:\n",
        "        response = sp.playlist_tracks(url,\n",
        "                                      offset = offset,\n",
        "                                      fields = ['items.track.album.artists.name,total'])\n",
        "        artist.append(response[\"items\"])\n",
        "        offset = offset + len(response['items'])       \n",
        "        if len(response['items']) == 0:\n",
        "            break\n",
        "    artist_list = [b[\"track\"][\"album\"][\"artists\"][0][\"name\"] for a in artist for b in a]\n",
        "\n",
        "    \n",
        "    # spotify id    \n",
        "    offset = 0\n",
        "    identifier = []\n",
        "    while True:\n",
        "        response = sp.playlist_tracks(url,\n",
        "                                      offset = offset,\n",
        "                                      fields = ['items.track.id,total'])\n",
        "        identifier.append(response[\"items\"])\n",
        "        offset = offset + len(response['items'])      \n",
        "        if len(response['items']) == 0:\n",
        "            break\n",
        "    identifier_list = [b[\"track\"][\"id\"] for a in identifier for b in a]\n",
        "\n",
        "    # popularity \n",
        "    offset = 0\n",
        "    popularity = []\n",
        "    while True:\n",
        "        response = sp.playlist_tracks(url,\n",
        "                                      offset = offset,\n",
        "                                      fields = ['items.track.popularity,total'])\n",
        "        popularity.append(response[\"items\"])\n",
        "        offset = offset + len(response['items'])      \n",
        "        if len(response['items']) == 0:\n",
        "            break\n",
        "    popularity_list = [b[\"track\"][\"popularity\"] for a in popularity for b in a]\n",
        "    \n",
        "    # Get audio features\n",
        "    features = [sp.audio_features(identifier) for identifier in identifier_list]\n",
        "\n",
        "    # Get each invidividual feature\n",
        "    danceability = [(b[\"danceability\"]) for a in features for b in a]    \n",
        "    mode = [(b[\"mode\"]) for a in features for b in a]\n",
        "    energy = [(b[\"energy\"]) for a in features for b in a]\n",
        "    key = [(b[\"key\"]) for a in features for b in a]        \n",
        "    loudness = [(b[\"loudness\"]) for a in features for b in a]       \n",
        "    speechiness = [(b[\"speechiness\"]) for a in features for b in a]\n",
        "    acousticness = [(b[\"acousticness\"]) for a in features for b in a]        \n",
        "    instrumentalness = [(b[\"instrumentalness\"]) for a in features for b in a] \n",
        "    liveness = [(b[\"liveness\"]) for a in features for b in a]\n",
        "    valence = [(b[\"valence\"]) for a in features for b in a]        \n",
        "    tempo = [(b[\"tempo\"]) for a in features for b in a] \n",
        "    duration_ms = [(b[\"duration_ms\"]) for a in features for b in a] \n",
        "    identifier_ = [(b[\"id\"]) for a in features for b in a] \n",
        "        \n",
        "    # dataframe (saved with current time)\n",
        "\n",
        "    # for testing...\n",
        "\n",
        "    # print(len(key))\n",
        "    # print(len(danceability))\n",
        "    # print(len(popularity_list))\n",
        "\n",
        "    df = pd.DataFrame({\"popularity\": popularity_list,\n",
        "                       \"name\": name_list, \n",
        "                       \"artist\": artist_list, \n",
        "                       \"album\": album_list, \n",
        "                       \"id\": identifier_list})\n",
        "    \n",
        "    df_2 = pd.DataFrame({\"dance\":danceability,\n",
        "                         \"mode\":mode,\n",
        "                         \"energy\":energy,\n",
        "                         \"key\":key,\n",
        "                         \"loudness\":loudness,\n",
        "                         \"speech\":speechiness,\n",
        "                         \"acous\":acousticness,\n",
        "                         \"instrum\":instrumentalness,\n",
        "                         \"live\":liveness,\n",
        "                         \"valence\":valence,\n",
        "                         \"tempo\":tempo,\n",
        "                         \"duration_(ms)\": duration_ms,\n",
        "                         \"id_check\":identifier_\n",
        "                          })\n",
        "\n",
        "    df_combined = df_2.join(df)\n",
        "    \n",
        "    df_combined.to_csv(\"df\" + \".csv\")\n",
        "\n",
        "    return df_combined.tail()"
      ],
      "execution_count": null,
      "outputs": []
    },
    {
      "cell_type": "code",
      "metadata": {
        "id": "x02EJm0AxOnT"
      },
      "source": [
        "# the cleaning/analysis for this project is done in R \n",
        "\n",
        "analyze_playlist(\"2N8sqpn96q5oYiQepY7inT\")\n",
        "\n",
        "# rolling stone: 5dxn0i8MPl6XFVVxNatd6U\"\n",
        "# test set: 7KCecUfCC2fWgyeuTDDY0S\n",
        "# out of sample high \"valence\" set: \"2N8sqpn96q5oYiQepY7inT\""
      ],
      "execution_count": null,
      "outputs": []
    }
  ]
}
